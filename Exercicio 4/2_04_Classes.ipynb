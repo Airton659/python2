{
  "cells": [
    {
      "cell_type": "markdown",
      "metadata": {
        "id": "jmICslAK7zDE"
      },
      "source": [
        "> Projeto Desenvolve <br>\n",
        "Programação Intermediária com Python <br>\n",
        "Profa. Camila Laranjeira (mila@projetodesenvolve.com.br) <br>\n",
        "\n",
        "# 2.4 - Classes, atributos e métodos"
      ]
    },
    {
      "cell_type": "markdown",
      "metadata": {
        "id": "s6dzb1Tb7zDK"
      },
      "source": [
        "## Exercícios\n",
        "\n",
        "#### Q1.\n",
        "Vamos criar aos pouquinhos uma classe Evento que registra eventos de um calendário. Pra começar, nessa questão você deve:\n",
        "\n",
        "* Criar uma classe chamada Evento\n",
        "* Adicionar um atributo de classe `total_eventos` que será usado para contar o número total de eventos (instâncias de classe) criadas.\n",
        "* Implemente o método construtor que deve receber os parâmetros `titulo` (`string`), `data_hora` (`datetime`), `descrição` (`string`). Crie e inicialize um atributo de instância para cada um dos parâmetros citados.\n",
        "* O construtor também deve inicializar um atributo de instância `is_concluido = False`. Esse atributo será utilizado mais à frente.\n",
        "* No construtor você também deve incrementar o atributo de classe `total_eventos` em 1 a cada nova instância criada.\n",
        "\n",
        "Teste o seu código criando duas diferentes instâncias de evento (preencha os atributos como quiser) e imprimindo todos os seus atributos (de classe e de instância).\n",
        "\n",
        "> Consulte [este tutorial biblioteca `datetime`](https://www.w3schools.com/python/python_datetime.asp) caso não esteja familiarizado."
      ]
    },
    {
      "cell_type": "code",
      "execution_count": 1,
      "metadata": {
        "vscode": {
          "languageId": "plaintext"
        },
        "colab": {
          "base_uri": "https://localhost:8080/"
        },
        "id": "6USBzud27zDN",
        "outputId": "d5a46373-5665-45f9-f8c3-6d095f1f6f7e"
      },
      "outputs": [
        {
          "output_type": "stream",
          "name": "stdout",
          "text": [
            "Evento 1 2024-10-17 10:34:29.174560 Descrição do evento 1 False\n",
            "Evento 2 2024-10-17 10:34:29.174603 Descrição do evento 2 False\n",
            "2\n"
          ]
        }
      ],
      "source": [
        "### Escreva seu código aqui\n",
        "from datetime import datetime\n",
        "\n",
        "class Evento:\n",
        "    total_eventos = 0\n",
        "\n",
        "    def __init__(self, titulo: str, data_hora: datetime, descricao: str):\n",
        "        self.titulo = titulo\n",
        "        self.data_hora = data_hora\n",
        "        self.descricao = descricao\n",
        "        self.is_concluido = False\n",
        "\n",
        "        Evento.total_eventos += 1\n",
        "\n",
        "evento1 = Evento(\"Evento 1\", datetime.now(), \"Descrição do evento 1\")\n",
        "evento2 = Evento(\"Evento 2\", datetime.now(), \"Descrição do evento 2\")\n",
        "\n",
        "print(evento1.titulo, evento1.data_hora, evento1.descricao, evento1.is_concluido)\n",
        "print(evento2.titulo, evento2.data_hora, evento2.descricao, evento2.is_concluido)\n",
        "print(Evento.total_eventos)"
      ]
    },
    {
      "cell_type": "markdown",
      "metadata": {
        "id": "lwETG6oM7zDP"
      },
      "source": [
        "#### Q2.\n",
        "Agora vamos adicionar métodos à nossa classe. Lembre dos diferentes decoradores que aprendemos. Você deve redefinir a classe com os seguintes métodos:\n",
        "* Um método `isConcluido()` que avalia se a `data_hora` do evento é menor que `datetime.now()` (a data e hora atual). Em caso positivo, atualiza o atributo de instância `is_concluido` para o valor `True`.\n",
        "* Um método de classe `num_eventos()` que retorna o valor do atributo de classe `total_eventos`.\n",
        "* Um método estático `valida_evento(nome, data_hora, descricao)` que recebe os atributos de um evento e testa os tipos de cada variável, retornando `True` caso todos estejam corretos e `False` caso contrário. Para o teste, use a função nativa do Python [`isinstance`](https://www.w3schools.com/python/ref_func_isinstance.asp).\n",
        "\n",
        "Para testar sua classe atualizada:\n",
        "* Crie uma instância de Evento com valor passado e chame o método `isConcluido()` para a instância criada. Em seguida imprima o atributo `is_concluido`.\n",
        "* Invoque o método de classe `num_eventos()` a partir da classe Evento (ou seja, sem criar nenhuma instância).\n",
        "* Chame o método estático `valida_evento()` a partir da classe Evento. Experimente passar valores corretos e incorretos.\n"
      ]
    },
    {
      "cell_type": "code",
      "execution_count": 11,
      "metadata": {
        "vscode": {
          "languageId": "plaintext"
        },
        "colab": {
          "base_uri": "https://localhost:8080/"
        },
        "id": "a89XJ0Cw7zDQ",
        "outputId": "68224da2-1b8a-4619-b9ee-9e62826880b3"
      },
      "outputs": [
        {
          "output_type": "stream",
          "name": "stdout",
          "text": [
            "Evento 1 concluído: False\n",
            "Evento 2 concluído: True\n",
            "Total de eventos: 2\n",
            "2\n",
            "True\n",
            "False\n"
          ]
        }
      ],
      "source": [
        "from datetime import datetime\n",
        "\n",
        "class Evento:\n",
        "    total_eventos = 0\n",
        "\n",
        "    def __init__(self, titulo: str, data_hora: datetime, descricao: str):\n",
        "        self.titulo = titulo\n",
        "        self.data_hora = data_hora\n",
        "        self.descricao = descricao\n",
        "        self.is_concluido = False\n",
        "\n",
        "        Evento.total_eventos += 1\n",
        "\n",
        "    def isConcluido(self):\n",
        "        if self.data_hora < datetime.now():\n",
        "            self.is_concluido = True\n",
        "\n",
        "    @classmethod\n",
        "    def num_eventos(cls):\n",
        "        return cls.total_eventos\n",
        "\n",
        "    @staticmethod\n",
        "    def valida_evento(titulo: str, data_hora: datetime, descricao: str):\n",
        "        return isinstance(titulo, str) and isinstance(data_hora, datetime) and isinstance(descricao, str)\n",
        "\n",
        "evento1 = Evento(\"Evento 1\", datetime(2025,1,1,0,0), \"Descrição do evento \")\n",
        "evento2 = Evento(\"Reunião de Trabalho\", datetime(2024, 10, 10, 14, 0), \"Reunião para discutir o progresso do projeto.\")\n",
        "\n",
        "evento1.isConcluido()\n",
        "print(f\"Evento 1 concluído: {evento1.is_concluido}\")\n",
        "\n",
        "\n",
        "evento2.isConcluido()\n",
        "print(f\"Evento 2 concluído: {evento2.is_concluido}\")\n",
        "print(f\"Total de eventos: {Evento.num_eventos()}\")\n",
        "print(Evento.num_eventos())\n",
        "\n",
        "print(Evento.valida_evento(\"Evento 1\", datetime.now(), \"Descrição do evento 1\"))\n",
        "print(Evento.valida_evento(123, datetime.now(), \"Descrição do evento 1\"))"
      ]
    },
    {
      "cell_type": "markdown",
      "metadata": {
        "vscode": {
          "languageId": "plaintext"
        },
        "id": "CNtoAZcR7zDQ"
      },
      "source": [
        "#### Q3.\n",
        "\n",
        "Vamos incluir métodos mágicos! ✨🪄🔮\n",
        "\n",
        "Redefina a classe incluindo\":\n",
        "* Método `__str__` que imprime os atributos do evento na forma `\"Evento: titulo, Data: data_hora, Descrição: descricao, Concluido: is_concluido\"`.\n",
        "* Implemente os métodos de comparação `__eq__`, `__ne__`, `__lt__`, `__le__`, `__gt__` e `__ge__` para comparar eventos baseados no atributo `data_hora`. Esses métodos devem comparar duas instâncias de Evento e retornar os resultados apropriados (`True` ou `False`).\n",
        "\n",
        "Para testar, crie duas instâncias de Evento com datas diferentes. Imprima as instâncias com a função `print()` e apresente o resultado das comparações entre eventos (`==`, `!=`, `<`, `<=`, `>`, `>=`)."
      ]
    },
    {
      "cell_type": "code",
      "execution_count": 13,
      "metadata": {
        "vscode": {
          "languageId": "plaintext"
        },
        "colab": {
          "base_uri": "https://localhost:8080/"
        },
        "id": "6mPXbW0M7zDR",
        "outputId": "cdd77bba-7797-438b-d74a-086cac4e6dc6"
      },
      "outputs": [
        {
          "output_type": "stream",
          "name": "stdout",
          "text": [
            "\n",
            "Comparações entre eventos\n",
            "evento1 == evento2: False\n",
            "evento1 != evento2: True\n",
            "evento1 < evento2: False\n",
            "evento1 <= evento2: False\n",
            "evento1 > evento2: True\n",
            "evento1 >= evento2: True\n"
          ]
        }
      ],
      "source": [
        "from datetime import datetime\n",
        "\n",
        "class Evento:\n",
        "    total_eventos = 0\n",
        "\n",
        "    def __init__(self, titulo: str, data_hora: datetime, descricao: str):\n",
        "        self.titulo = titulo\n",
        "        self.data_hora = data_hora\n",
        "        self.descricao = descricao\n",
        "        self.is_concluido = False\n",
        "\n",
        "        Evento.total_eventos += 1\n",
        "\n",
        "    def isConcluido(self):\n",
        "        if self.data_hora < datetime.now():\n",
        "            self.is_concluido = True\n",
        "\n",
        "    @classmethod\n",
        "    def num_eventos(cls):\n",
        "        return cls.total_eventos\n",
        "\n",
        "    @staticmethod\n",
        "    def valida_evento(titulo: str, data_hora: datetime, descricao: str):\n",
        "        return isinstance(titulo, str) and isinstance(data_hora, datetime) and isinstance(descricao, str)\n",
        "\n",
        "    def __str__(self):\n",
        "        return f\"Evento: {self.titulo}, Data: {self.data_hora}, Descrição: {self.descricao}, Concluido: {self.is_concluido}\"\n",
        "\n",
        "    def __eq__(self, other):\n",
        "        return self.data_hora == other.data_hora\n",
        "\n",
        "    def __ne__(self, other):\n",
        "        return self.data_hora != other.data_hora\n",
        "\n",
        "    def __lt__(self, other):\n",
        "        return self.data_hora < other.data_hora\n",
        "\n",
        "    def __le__(self, other):\n",
        "        return self.data_hora <= other.data_hora\n",
        "\n",
        "    def __gt__(self, other):\n",
        "        return self.data_hora > other.data_hora\n",
        "\n",
        "    def __ge__(self, other):\n",
        "        return self.data_hora >= other.data_hora\n",
        "\n",
        "evento1 = Evento(\"Evento 1\", datetime(2025,1,1,0,0), \"Descrição do evento \")\n",
        "evento2 = Evento(\"Reunião de Trabalho\", datetime(2024, 10, 10, 14, 0), \"Reunião para discutir o progresso do projeto.\")\n",
        "\n",
        "\n",
        "print (\"\\nComparações entre eventos\")\n",
        "\n",
        "print(f\"evento1 == evento2: {evento1 == evento2}\")\n",
        "print(f\"evento1 != evento2: {evento1 != evento2}\")\n",
        "print(f\"evento1 < evento2: {evento1 < evento2}\")\n",
        "print(f\"evento1 <= evento2: {evento1 <= evento2}\")\n",
        "print(f\"evento1 > evento2: {evento1 > evento2}\")\n",
        "print(f\"evento1 >= evento2: {evento1 >= evento2}\")"
      ]
    }
  ],
  "metadata": {
    "language_info": {
      "name": "python"
    },
    "colab": {
      "provenance": []
    },
    "kernelspec": {
      "name": "python3",
      "display_name": "Python 3"
    }
  },
  "nbformat": 4,
  "nbformat_minor": 0
}