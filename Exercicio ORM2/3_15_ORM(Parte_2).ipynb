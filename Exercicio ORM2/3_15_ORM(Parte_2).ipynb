{
  "cells": [
    {
      "cell_type": "markdown",
      "metadata": {
        "id": "gopL6jWUycEc"
      },
      "source": [
        "## Exercícios\n",
        "\n",
        "> Retirados de [learn-python: sqlalchemy_orm-questions](https://aviadr1.github.io/learn-advanced-python/11_db_access/exercise/sqlalchemy_orm-questions.html).\n",
        "\n",
        "#### Q1.\n",
        "\n",
        "Baixa e extraia o arquivo compactado com o banco de dados [Chinook database](https://www.sqlitetutorial.net/sqlite-sample-database/). Salve o arquivo `chinook.db` na mesma pasta deste script.\n",
        "* Link para baixar: http://www.sqlitetutorial.net/wp-content/uploads/2018/03/chinook.zip\n",
        "\n",
        "<img width=500 src=https://www.sqlitetutorial.net/wp-content/uploads/2015/11/sqlite-sample-database-color.jpg>\n"
      ]
    },
    {
      "cell_type": "markdown",
      "metadata": {
        "id": "hkUN8C-RycFB"
      },
      "source": [
        "#### Q2.\n",
        "\n",
        "Leia o código e os comentários das células a seguir para entender como acessamos os modelos ORM de um banco já existente."
      ]
    },
    {
      "cell_type": "code",
      "execution_count": 10,
      "metadata": {
        "vscode": {
          "languageId": "plaintext"
        },
        "colab": {
          "base_uri": "https://localhost:8080/"
        },
        "id": "xRDuNF9EycFE",
        "outputId": "2986081a-0abe-4b87-b034-910db860ea87"
      },
      "outputs": [
        {
          "output_type": "stream",
          "name": "stdout",
          "text": [
            "albums\n",
            "['AlbumId', 'Title', 'ArtistId']\n",
            "[('AlbumId', Column('AlbumId', INTEGER(), table=<albums>, primary_key=True, nullable=False)), ('Title', Column('Title', NVARCHAR(length=160), table=<albums>, nullable=False)), ('ArtistId', Column('ArtistId', INTEGER(), ForeignKey('artists.ArtistId'), table=<albums>, nullable=False))]\n",
            "-------------------------\n",
            "artists\n",
            "['ArtistId', 'Name']\n",
            "[('ArtistId', Column('ArtistId', INTEGER(), table=<artists>, primary_key=True, nullable=False)), ('Name', Column('Name', NVARCHAR(length=120), table=<artists>))]\n",
            "-------------------------\n",
            "customers\n",
            "['CustomerId', 'FirstName', 'LastName', 'Company', 'Address', 'City', 'State', 'Country', 'PostalCode', 'Phone', 'Fax', 'Email', 'SupportRepId']\n",
            "[('CustomerId', Column('CustomerId', INTEGER(), table=<customers>, primary_key=True, nullable=False)), ('FirstName', Column('FirstName', NVARCHAR(length=40), table=<customers>, nullable=False)), ('LastName', Column('LastName', NVARCHAR(length=20), table=<customers>, nullable=False)), ('Company', Column('Company', NVARCHAR(length=80), table=<customers>)), ('Address', Column('Address', NVARCHAR(length=70), table=<customers>)), ('City', Column('City', NVARCHAR(length=40), table=<customers>)), ('State', Column('State', NVARCHAR(length=40), table=<customers>)), ('Country', Column('Country', NVARCHAR(length=40), table=<customers>)), ('PostalCode', Column('PostalCode', NVARCHAR(length=10), table=<customers>)), ('Phone', Column('Phone', NVARCHAR(length=24), table=<customers>)), ('Fax', Column('Fax', NVARCHAR(length=24), table=<customers>)), ('Email', Column('Email', NVARCHAR(length=60), table=<customers>, nullable=False)), ('SupportRepId', Column('SupportRepId', INTEGER(), ForeignKey('employees.EmployeeId'), table=<customers>))]\n",
            "-------------------------\n",
            "employees\n",
            "['EmployeeId', 'LastName', 'FirstName', 'Title', 'ReportsTo', 'BirthDate', 'HireDate', 'Address', 'City', 'State', 'Country', 'PostalCode', 'Phone', 'Fax', 'Email']\n",
            "[('EmployeeId', Column('EmployeeId', INTEGER(), table=<employees>, primary_key=True, nullable=False)), ('LastName', Column('LastName', NVARCHAR(length=20), table=<employees>, nullable=False)), ('FirstName', Column('FirstName', NVARCHAR(length=20), table=<employees>, nullable=False)), ('Title', Column('Title', NVARCHAR(length=30), table=<employees>)), ('ReportsTo', Column('ReportsTo', INTEGER(), ForeignKey('employees.EmployeeId'), table=<employees>)), ('BirthDate', Column('BirthDate', DATETIME(), table=<employees>)), ('HireDate', Column('HireDate', DATETIME(), table=<employees>)), ('Address', Column('Address', NVARCHAR(length=70), table=<employees>)), ('City', Column('City', NVARCHAR(length=40), table=<employees>)), ('State', Column('State', NVARCHAR(length=40), table=<employees>)), ('Country', Column('Country', NVARCHAR(length=40), table=<employees>)), ('PostalCode', Column('PostalCode', NVARCHAR(length=10), table=<employees>)), ('Phone', Column('Phone', NVARCHAR(length=24), table=<employees>)), ('Fax', Column('Fax', NVARCHAR(length=24), table=<employees>)), ('Email', Column('Email', NVARCHAR(length=60), table=<employees>))]\n",
            "-------------------------\n",
            "genres\n",
            "['GenreId', 'Name']\n",
            "[('GenreId', Column('GenreId', INTEGER(), table=<genres>, primary_key=True, nullable=False)), ('Name', Column('Name', NVARCHAR(length=120), table=<genres>))]\n",
            "-------------------------\n",
            "invoice_items\n",
            "['InvoiceLineId', 'InvoiceId', 'TrackId', 'UnitPrice', 'Quantity']\n",
            "[('InvoiceLineId', Column('InvoiceLineId', INTEGER(), table=<invoice_items>, primary_key=True, nullable=False)), ('InvoiceId', Column('InvoiceId', INTEGER(), ForeignKey('invoices.InvoiceId'), table=<invoice_items>, nullable=False)), ('TrackId', Column('TrackId', INTEGER(), ForeignKey('tracks.TrackId'), table=<invoice_items>, nullable=False)), ('UnitPrice', Column('UnitPrice', NUMERIC(precision=10, scale=2), table=<invoice_items>, nullable=False)), ('Quantity', Column('Quantity', INTEGER(), table=<invoice_items>, nullable=False))]\n",
            "-------------------------\n",
            "tracks\n",
            "['TrackId', 'Name', 'AlbumId', 'MediaTypeId', 'GenreId', 'Composer', 'Milliseconds', 'Bytes', 'UnitPrice']\n",
            "[('TrackId', Column('TrackId', INTEGER(), table=<tracks>, primary_key=True, nullable=False)), ('Name', Column('Name', NVARCHAR(length=200), table=<tracks>, nullable=False)), ('AlbumId', Column('AlbumId', INTEGER(), ForeignKey('albums.AlbumId'), table=<tracks>)), ('MediaTypeId', Column('MediaTypeId', INTEGER(), ForeignKey('media_types.MediaTypeId'), table=<tracks>, nullable=False)), ('GenreId', Column('GenreId', INTEGER(), ForeignKey('genres.GenreId'), table=<tracks>)), ('Composer', Column('Composer', NVARCHAR(length=220), table=<tracks>)), ('Milliseconds', Column('Milliseconds', INTEGER(), table=<tracks>, nullable=False)), ('Bytes', Column('Bytes', INTEGER(), table=<tracks>)), ('UnitPrice', Column('UnitPrice', NUMERIC(precision=10, scale=2), table=<tracks>, nullable=False))]\n",
            "-------------------------\n",
            "media_types\n",
            "['MediaTypeId', 'Name']\n",
            "[('MediaTypeId', Column('MediaTypeId', INTEGER(), table=<media_types>, primary_key=True, nullable=False)), ('Name', Column('Name', NVARCHAR(length=120), table=<media_types>))]\n",
            "-------------------------\n",
            "invoices\n",
            "['InvoiceId', 'CustomerId', 'InvoiceDate', 'BillingAddress', 'BillingCity', 'BillingState', 'BillingCountry', 'BillingPostalCode', 'Total']\n",
            "[('InvoiceId', Column('InvoiceId', INTEGER(), table=<invoices>, primary_key=True, nullable=False)), ('CustomerId', Column('CustomerId', INTEGER(), ForeignKey('customers.CustomerId'), table=<invoices>, nullable=False)), ('InvoiceDate', Column('InvoiceDate', DATETIME(), table=<invoices>, nullable=False)), ('BillingAddress', Column('BillingAddress', NVARCHAR(length=70), table=<invoices>)), ('BillingCity', Column('BillingCity', NVARCHAR(length=40), table=<invoices>)), ('BillingState', Column('BillingState', NVARCHAR(length=40), table=<invoices>)), ('BillingCountry', Column('BillingCountry', NVARCHAR(length=40), table=<invoices>)), ('BillingPostalCode', Column('BillingPostalCode', NVARCHAR(length=10), table=<invoices>)), ('Total', Column('Total', NUMERIC(precision=10, scale=2), table=<invoices>, nullable=False))]\n",
            "-------------------------\n",
            "playlist_track\n",
            "['PlaylistId', 'TrackId']\n",
            "[('PlaylistId', Column('PlaylistId', INTEGER(), ForeignKey('playlists.PlaylistId'), table=<playlist_track>, primary_key=True, nullable=False)), ('TrackId', Column('TrackId', INTEGER(), ForeignKey('tracks.TrackId'), table=<playlist_track>, primary_key=True, nullable=False))]\n",
            "-------------------------\n",
            "playlists\n",
            "['PlaylistId', 'Name']\n",
            "[('PlaylistId', Column('PlaylistId', INTEGER(), table=<playlists>, primary_key=True, nullable=False)), ('Name', Column('Name', NVARCHAR(length=120), table=<playlists>))]\n",
            "-------------------------\n",
            "[('employees', <class 'sqlalchemy.ext.automap.employees'>), ('albums', <class 'sqlalchemy.ext.automap.albums'>), ('genres', <class 'sqlalchemy.ext.automap.genres'>), ('invoices', <class 'sqlalchemy.ext.automap.invoices'>), ('customers', <class 'sqlalchemy.ext.automap.customers'>), ('playlists', <class 'sqlalchemy.ext.automap.playlists'>), ('invoice_items', <class 'sqlalchemy.ext.automap.invoice_items'>), ('artists', <class 'sqlalchemy.ext.automap.artists'>), ('media_types', <class 'sqlalchemy.ext.automap.media_types'>), ('tracks', <class 'sqlalchemy.ext.automap.tracks'>)]\n"
          ]
        }
      ],
      "source": [
        "from sqlalchemy import create_engine, text, MetaData, select, desc, func\n",
        "from sqlalchemy.orm import Session\n",
        "\n",
        "engine = create_engine(\"sqlite+pysqlite:///chinook.db\", echo=False)\n",
        "\n",
        "### extrai as classes da base de dados Chinook\n",
        "metadata = MetaData()\n",
        "metadata.reflect(engine)\n",
        "\n",
        "# O metadata tem informações sobre as tabelas\n",
        "# que serão usadas para criar os modelos ORM\n",
        "for table_name, table in metadata.tables.items():\n",
        "    print(table_name)\n",
        "    print(table.columns.keys())\n",
        "    print(table.columns.items())\n",
        "    print('-'*25)\n",
        "\n",
        "### configura o objeto Base mapeando os modelos ORM das tabelas\n",
        "from sqlalchemy.ext.automap import automap_base\n",
        "Base = automap_base(metadata=metadata)\n",
        "Base.prepare()\n",
        "\n",
        "# o objeto Base tem os modelos ORM que podemos usar\n",
        "# para manipular o banco de dados\n",
        "print(Base.classes.items())"
      ]
    },
    {
      "cell_type": "code",
      "execution_count": 2,
      "metadata": {
        "vscode": {
          "languageId": "plaintext"
        },
        "colab": {
          "base_uri": "https://localhost:8080/"
        },
        "id": "2pbF9VPSycFJ",
        "outputId": "e4025c87-21e5-4acc-c2a1-855496206c3a"
      },
      "outputs": [
        {
          "output_type": "stream",
          "name": "stdout",
          "text": [
            "1 For Those About To Rock We Salute You\n"
          ]
        }
      ],
      "source": [
        "# A seguir um exemplo de query na tabela Albums\n",
        "# usamos o objeto Base para acessar cada modelo ORM.\n",
        "\n",
        "session = Session(engine)\n",
        "res = session.scalars(select(Base.classes.albums))\n",
        "first_album = res.first()\n",
        "print(first_album.AlbumId, first_album.Title)"
      ]
    },
    {
      "cell_type": "markdown",
      "metadata": {
        "id": "DJLNMbxBycFK"
      },
      "source": [
        "#### Q3.\n",
        "Com base nos códigos anteriores realize as operações solicitadas nas células a seguir:\n"
      ]
    },
    {
      "cell_type": "code",
      "execution_count": 3,
      "metadata": {
        "vscode": {
          "languageId": "plaintext"
        },
        "colab": {
          "base_uri": "https://localhost:8080/"
        },
        "id": "7NnaXw3BycFL",
        "outputId": "8840b168-6786-4207-f788-63b31c876901"
      },
      "outputs": [
        {
          "output_type": "stream",
          "name": "stdout",
          "text": [
            "1 For Those About To Rock (We Salute You) 1 1 1 Angus Young, Malcolm Young, Brian Johnson 343719 11170334 0.99\n",
            "2 Balls to the Wall 2 2 1 None 342562 5510424 0.99\n",
            "3 Fast As a Shark 3 2 1 F. Baltes, S. Kaufman, U. Dirkscneider & W. Hoffman 230619 3990994 0.99\n"
          ]
        }
      ],
      "source": [
        "### Imprima os três primeiros registros da tabela tracks\n",
        "tracks = select(Base.classes.tracks).limit(3)\n",
        "tracks_res = session.scalars(tracks).all()\n",
        "\n",
        "for track in tracks_res:\n",
        "    print(track.TrackId, track.Name, track.AlbumId, track.MediaTypeId, track.GenreId, track.Composer, track.Milliseconds, track.Bytes, track.UnitPrice)"
      ]
    },
    {
      "cell_type": "code",
      "execution_count": 4,
      "metadata": {
        "vscode": {
          "languageId": "plaintext"
        },
        "colab": {
          "base_uri": "https://localhost:8080/"
        },
        "id": "Wcqp0evHycFM",
        "outputId": "843cfb4d-3af1-46d1-c85d-f0722a24bf52"
      },
      "outputs": [
        {
          "output_type": "stream",
          "name": "stdout",
          "text": [
            "Faixa: For Those About To Rock (We Salute You), Álbum: For Those About To Rock We Salute You\n",
            "Faixa: Put The Finger On You, Álbum: For Those About To Rock We Salute You\n",
            "Faixa: Let's Get It Up, Álbum: For Those About To Rock We Salute You\n",
            "Faixa: Inject The Venom, Álbum: For Those About To Rock We Salute You\n",
            "Faixa: Snowballed, Álbum: For Those About To Rock We Salute You\n",
            "Faixa: Evil Walks, Álbum: For Those About To Rock We Salute You\n",
            "Faixa: C.O.D., Álbum: For Those About To Rock We Salute You\n",
            "Faixa: Breaking The Rules, Álbum: For Those About To Rock We Salute You\n",
            "Faixa: Night Of The Long Knives, Álbum: For Those About To Rock We Salute You\n",
            "Faixa: Spellbound, Álbum: For Those About To Rock We Salute You\n",
            "Faixa: Balls to the Wall, Álbum: Balls to the Wall\n",
            "Faixa: Fast As a Shark, Álbum: Restless and Wild\n",
            "Faixa: Restless and Wild, Álbum: Restless and Wild\n",
            "Faixa: Princess of the Dawn, Álbum: Restless and Wild\n",
            "Faixa: Go Down, Álbum: Let There Be Rock\n",
            "Faixa: Dog Eat Dog, Álbum: Let There Be Rock\n",
            "Faixa: Let There Be Rock, Álbum: Let There Be Rock\n",
            "Faixa: Bad Boy Boogie, Álbum: Let There Be Rock\n",
            "Faixa: Problem Child, Álbum: Let There Be Rock\n",
            "Faixa: Overdose, Álbum: Let There Be Rock\n"
          ]
        }
      ],
      "source": [
        "### Imprima o nome da faixa e o título do álbum das primeiras 20 faixas na tabela tracks.\n",
        "Track = Base.classes.tracks\n",
        "Album = Base.classes.albums\n",
        "\n",
        "query = (\n",
        "    select(Track.Name, Album.Title)\n",
        "    .join(Album, Track.AlbumId == Album.AlbumId)\n",
        "    .limit(20)\n",
        ")\n",
        "\n",
        "result = session.execute(query).all()\n",
        "\n",
        "for track_name, album_title in result:\n",
        "    print(f\"Faixa: {track_name}, Álbum: {album_title}\")\n",
        "\n"
      ]
    },
    {
      "cell_type": "code",
      "execution_count": 6,
      "metadata": {
        "vscode": {
          "languageId": "plaintext"
        },
        "colab": {
          "base_uri": "https://localhost:8080/"
        },
        "id": "JWY2R9c1ycFN",
        "outputId": "fdcae2c6-8991-4e13-d992-66b276b427d4"
      },
      "outputs": [
        {
          "output_type": "stream",
          "name": "stdout",
          "text": [
            "1\n",
            "Quantidade: 1, Faixa: Balls to the Wall\n",
            "Quantidade: 1, Faixa: Restless and Wild\n",
            "Quantidade: 1, Faixa: Put The Finger On You\n",
            "Quantidade: 1, Faixa: Inject The Venom\n",
            "Quantidade: 1, Faixa: Evil Walks\n",
            "Quantidade: 1, Faixa: Breaking The Rules\n",
            "Quantidade: 1, Faixa: Dog Eat Dog\n",
            "Quantidade: 1, Faixa: Overdose\n",
            "Quantidade: 1, Faixa: Love In An Elevator\n",
            "Quantidade: 1, Faixa: Janie's Got A Gun\n"
          ]
        }
      ],
      "source": [
        "### Imprima as 10 primeiras vendas de faixas da tabela invoice_items\n",
        "### Para essas 10 primeiras vendas, imprima os nomes das faixas vendidas e a quantidade vendida.\n",
        "# from sqlalchemy import func\n",
        "\n",
        "# max_resul= session.execute(select(func.max(Base.classes.invoice_items.Quantity))).scalar()\n",
        "# print(max_resul)\n",
        "\n",
        "query = (\n",
        "    select(Base.classes.invoice_items.Quantity, Base.classes.tracks.Name)\n",
        "    .join(Base.classes.tracks, Base.classes.invoice_items.TrackId == Base.classes.tracks.TrackId)\n",
        "    .order_by(Base.classes.invoice_items.Quantity)\n",
        "    .limit(10)\n",
        ")\n",
        "\n",
        "results = session.execute(query).all()\n",
        "\n",
        "for quantity, track_name in results:\n",
        "    print(f\"Quantidade: {quantity}, Faixa: {track_name}\")\n",
        "\n"
      ]
    },
    {
      "cell_type": "code",
      "execution_count": 11,
      "metadata": {
        "vscode": {
          "languageId": "plaintext"
        },
        "colab": {
          "base_uri": "https://localhost:8080/"
        },
        "id": "LJ6R2sb_ycFO",
        "outputId": "18e7aba9-6d82-4f61-d23d-5ea694d6dd32"
      },
      "outputs": [
        {
          "output_type": "stream",
          "name": "stdout",
          "text": [
            "Faixa: Balls to the Wall, Vendas: 2\n",
            "Faixa: Inject The Venom, Vendas: 2\n",
            "Faixa: Snowballed, Vendas: 2\n",
            "Faixa: Overdose, Vendas: 2\n",
            "Faixa: Deuces Are Wild, Vendas: 2\n",
            "Faixa: Not The Doctor, Vendas: 2\n",
            "Faixa: Por Causa De Você, Vendas: 2\n",
            "Faixa: Welcome Home (Sanitarium), Vendas: 2\n",
            "Faixa: Snowblind, Vendas: 2\n",
            "Faixa: Cornucopia, Vendas: 2\n"
          ]
        }
      ],
      "source": [
        "### Imprima os nomes das 10 faixas mais vendidas e quantas vezes foram vendidas.\n",
        "query_top_selling_tracks = (\n",
        "    select(Base.classes.tracks.Name, func.count(Base.classes.invoice_items.TrackId).label(\"total_sales\"))\n",
        "    .join(Base.classes.invoice_items, Base.classes.tracks.TrackId == Base.classes.invoice_items.TrackId)\n",
        "    .group_by(Base.classes.tracks.TrackId)\n",
        "    .order_by(desc(\"total_sales\"))\n",
        "    .limit(10)\n",
        ")\n",
        "\n",
        "top_selling_tracks_result = session.execute(query_top_selling_tracks).all()\n",
        "\n",
        "for track_name, total_sales in top_selling_tracks_result:\n",
        "    print(f\"Faixa: {track_name}, Vendas: {total_sales}\")"
      ]
    },
    {
      "cell_type": "code",
      "execution_count": 12,
      "metadata": {
        "vscode": {
          "languageId": "plaintext"
        },
        "colab": {
          "base_uri": "https://localhost:8080/"
        },
        "id": "SweneJjqycFO",
        "outputId": "be40ebe0-a22e-4f4b-9e9d-3a5546ea0862"
      },
      "outputs": [
        {
          "output_type": "stream",
          "name": "stdout",
          "text": [
            "Artista: Iron Maiden, Vendas: 140\n",
            "Artista: U2, Vendas: 107\n",
            "Artista: Metallica, Vendas: 91\n",
            "Artista: Led Zeppelin, Vendas: 87\n",
            "Artista: Os Paralamas Do Sucesso, Vendas: 45\n",
            "Artista: Deep Purple, Vendas: 44\n",
            "Artista: Faith No More, Vendas: 42\n",
            "Artista: Lost, Vendas: 41\n",
            "Artista: Eric Clapton, Vendas: 40\n",
            "Artista: R.E.M., Vendas: 39\n"
          ]
        }
      ],
      "source": [
        "### Quem são os 10 artistas que mais venderam?\n",
        "### dica: você precisa juntar as tabelas invoice_items, tracks, albums e artists\n",
        "\n",
        "query_top_selling_artists = (\n",
        "    select(Base.classes.artists.Name, func.count(Base.classes.invoice_items.InvoiceLineId).label(\"total_sales\"))\n",
        "    .join(Base.classes.albums, Base.classes.artists.ArtistId == Base.classes.albums.ArtistId)\n",
        "    .join(Base.classes.tracks, Base.classes.albums.AlbumId == Base.classes.tracks.AlbumId)\n",
        "    .join(Base.classes.invoice_items, Base.classes.tracks.TrackId == Base.classes.invoice_items.TrackId)\n",
        "    .group_by(Base.classes.artists.Name)\n",
        "    .order_by(desc(\"total_sales\"))\n",
        "    .limit(10)\n",
        ")\n",
        "\n",
        "top_selling_artists_result = session.execute(query_top_selling_artists).all()\n",
        "\n",
        "for artist_name, total_sales in top_selling_artists_result:\n",
        "    print(f\"Artista: {artist_name}, Vendas: {total_sales}\")"
      ]
    }
  ],
  "metadata": {
    "language_info": {
      "name": "python"
    },
    "colab": {
      "provenance": []
    },
    "kernelspec": {
      "name": "python3",
      "display_name": "Python 3"
    }
  },
  "nbformat": 4,
  "nbformat_minor": 0
}