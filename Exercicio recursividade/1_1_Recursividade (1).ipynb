{
  "cells": [
    {
      "cell_type": "markdown",
      "id": "c87bc264",
      "metadata": {
        "id": "c87bc264"
      },
      "source": [
        "> Projeto Desenvolve <br>\n",
        "Programação Intermediária com Python <br>\n",
        "Profa. Camila Laranjeira (mila@projetodesenvolve.com.br) <br>\n",
        "\n",
        "# 1.1 - Recursividade"
      ]
    },
    {
      "cell_type": "markdown",
      "id": "02e47197",
      "metadata": {
        "id": "02e47197"
      },
      "source": [
        "## Exercícios:\n",
        "\n",
        "#### **Q1**.\n",
        "Faça um procedimento recursivo que receba dois valores inteiros `a` e `b` e imprime o intervalo fechado entre eles. Se `a > b` imprima uma mensagem de erro.\n",
        "\n",
        "| Entrada |  Saída |\n",
        "| ------- | ------ |\n",
        "| 1 10    | 1 2 3 4 5 6 7 8 9 10 |\n",
        "| -5 1    | -5 -4 -3 -2 -1 |\n",
        "| 5 -5    | Valores invalidos |\n",
        "| 17 20   | 17 18 19 20 |"
      ]
    },
    {
      "cell_type": "code",
      "execution_count": 5,
      "id": "e89a9966",
      "metadata": {
        "colab": {
          "base_uri": "https://localhost:8080/"
        },
        "id": "e89a9966",
        "outputId": "9f756d0e-3117-4870-9d85-aa9d57c0ab0f"
      },
      "outputs": [
        {
          "output_type": "stream",
          "name": "stdout",
          "text": [
            "5 é maior que -5\n"
          ]
        }
      ],
      "source": [
        "def intervalo_fechado(a,b):\n",
        "  if a > b :\n",
        "    print(f'{a} é maior que {b}')\n",
        "    return\n",
        "\n",
        "  if a==b:\n",
        "    print(a, end = ' ')\n",
        "\n",
        "  else:\n",
        "    print(a, end = ' ')\n",
        "    intervalo_fechado(a+1,b)\n",
        "\n",
        "intervalo_fechado(5,-5)"
      ]
    },
    {
      "cell_type": "markdown",
      "id": "b48196ed",
      "metadata": {
        "id": "b48196ed"
      },
      "source": [
        "---\n",
        "\n",
        "\n",
        "#### **Q2**.\n",
        "Mudando **apenas uma linha**, altere o código anterior para imprimir o intervalo invertido.\n",
        "\n",
        "| Entrada |  Saída |\n",
        "| ------- | ------ |\n",
        "| 1 10    | 10 9 8 7 6 5 4 3 2 1 |\n",
        "| -5 1    | -1 -2 -3 -4 -5 |\n",
        "| 5 -5    | Valores invalidos |\n",
        "| 17 20   | 20 19 18 17 |"
      ]
    },
    {
      "cell_type": "code",
      "execution_count": 6,
      "id": "4d0c21b4",
      "metadata": {
        "colab": {
          "base_uri": "https://localhost:8080/"
        },
        "id": "4d0c21b4",
        "outputId": "ae9c39ed-4306-49a7-e4e6-23f17525a157"
      },
      "outputs": [
        {
          "output_type": "stream",
          "name": "stdout",
          "text": [
            "10 9 8 7 6 5 4 3 2 1 "
          ]
        }
      ],
      "source": [
        "def intervalo_fechado(a,b):\n",
        "  if a > b :\n",
        "    print(f'{a} é maior que {b}')\n",
        "    return\n",
        "\n",
        "  if a==b:\n",
        "    print(a, end = ' ')\n",
        "\n",
        "  else:\n",
        "    intervalo_fechado(a+1,b)\n",
        "    print(a, end = ' ')\n",
        "\n",
        "intervalo_fechado(1,10)"
      ]
    },
    {
      "cell_type": "markdown",
      "id": "be727074",
      "metadata": {
        "id": "be727074"
      },
      "source": [
        "\n",
        "\n",
        "---\n",
        "\n",
        "\n",
        "#### **Q3**.\n",
        "Escreva uma função recursiva que recebe um inteiro `n > 1` e calcula a soma dos valores entre `n` e `1`.\n",
        "\n",
        "| Entrada |  Saída |\n",
        "| ------- | ------ |\n",
        "| 5   | 15 |\n",
        "| 13  | 78 |"
      ]
    },
    {
      "cell_type": "code",
      "execution_count": 11,
      "id": "c4da98b8",
      "metadata": {
        "colab": {
          "base_uri": "https://localhost:8080/"
        },
        "id": "c4da98b8",
        "outputId": "86523742-8cfb-4f07-81af-0c7c7d6a06aa"
      },
      "outputs": [
        {
          "output_type": "execute_result",
          "data": {
            "text/plain": [
              "55"
            ]
          },
          "metadata": {},
          "execution_count": 11
        }
      ],
      "source": [
        "def somatorio(n):\n",
        "  if n < 1:\n",
        "    print (f'{n} é menor que 1')\n",
        "    return\n",
        "  if n == 1:\n",
        "    return n\n",
        "  else:\n",
        "    return n + somatorio(n-1)\n",
        "\n",
        "somatorio(10)"
      ]
    },
    {
      "cell_type": "markdown",
      "id": "4142b276",
      "metadata": {
        "id": "4142b276"
      },
      "source": [
        "\n",
        "\n",
        "---\n",
        "\n",
        "\n",
        "#### **Q4**.  \n",
        "\n",
        "Escreva uma função recursiva que recebe um inteiro `n` e verifica se `n`é um valor primo, ou seja, se é divisível apenas por si mesmo e por `1`."
      ]
    },
    {
      "cell_type": "code",
      "execution_count": 14,
      "id": "4c96eb2d",
      "metadata": {
        "colab": {
          "base_uri": "https://localhost:8080/"
        },
        "id": "4c96eb2d",
        "outputId": "8f52d1b7-6367-4f64-d9a2-e81eea3f5cd6"
      },
      "outputs": [
        {
          "output_type": "stream",
          "name": "stdout",
          "text": [
            "True\n"
          ]
        }
      ],
      "source": [
        "def primo (n, div=2):\n",
        "  if n <=1:\n",
        "    return False\n",
        "  if div == n:\n",
        "    return True\n",
        "  if n % div == 0:\n",
        "    return False\n",
        "  return primo(n, div + 1)\n",
        "\n",
        "print(primo(7))\n"
      ]
    },
    {
      "cell_type": "markdown",
      "id": "2a0ae81c",
      "metadata": {
        "id": "2a0ae81c"
      },
      "source": [
        "\n",
        "\n",
        "---\n",
        "\n",
        "\n",
        "#### **Q5**.\n",
        "Implemente uma função recursiva que recebe um número inteiro decimal e retorna sua representação binária como uma string. Para realizar essa conversão, utilize o método de divisão sucessiva, onde você divide o número decimal por 2 e coleta os restos até que o quociente seja zero. A ordem dos restos coletados, de baixo para cima, forma o número binário correspondente.\n",
        "\n",
        "**Exemplo de Conversão:**\n",
        "\n",
        "Para converter o número decimal 13 para binário:\n",
        "```\n",
        "13 ÷ 2 = 6, resto 1\n",
        "6 ÷ 2 = 3, resto 0\n",
        "3 ÷ 2 = 1, resto 1\n",
        "1 ÷ 2 = 0, resto 1\n",
        "```\n",
        "Lendo os restos de baixo para cima, obtemos o número binário `1101`."
      ]
    },
    {
      "cell_type": "code",
      "execution_count": 15,
      "id": "a7d954f0",
      "metadata": {
        "colab": {
          "base_uri": "https://localhost:8080/"
        },
        "id": "a7d954f0",
        "outputId": "c960e975-20cf-4b9d-9d4d-a11c8d0f4161"
      },
      "outputs": [
        {
          "output_type": "stream",
          "name": "stdout",
          "text": [
            "1101\n"
          ]
        }
      ],
      "source": [
        "# prompt: Implemente uma função recursiva que recebe um número inteiro decimal e retorna sua representação binária como uma string. Para realizar essa conversão, utilize o método de divisão sucessiva, onde você divide o número decimal por 2 e coleta os restos até que o quociente seja zero. A ordem dos restos coletados, de baixo para cima, forma o número binário correspondente.\n",
        "\n",
        "def decimal_para_binario(n):\n",
        "  \"\"\"\n",
        "  Converte um número decimal para binário usando recursão.\n",
        "\n",
        "  Args:\n",
        "    n: O número decimal a ser convertido.\n",
        "\n",
        "  Returns:\n",
        "    Uma string representando o número binário.\n",
        "  \"\"\"\n",
        "  if n == 0:\n",
        "    return \"0\"\n",
        "  elif n == 1:\n",
        "    return \"1\"\n",
        "  else:\n",
        "    return decimal_para_binario(n // 2) + str(n % 2)\n",
        "\n",
        "# Exemplos de uso\n",
        "print(decimal_para_binario(13))  # Saída: 1101\n",
        "\n"
      ]
    },
    {
      "cell_type": "markdown",
      "id": "0f500709",
      "metadata": {
        "id": "0f500709"
      },
      "source": [
        "\n",
        "\n",
        "---\n",
        "\n",
        "\n",
        "#### **Extra**:\n",
        "\n",
        "Implemente uma função recursiva em Python que realiza a travessia em pré-ordem de uma árvore binária representada por listas aninhadas. Na travessia em pré-ordem (ou pré-fixada), o nó raiz é visitado primeiro, seguido pela subárvore esquerda e, por fim, pela subárvore direita. A questão fixa as constantes `RAIZ_IDX, ESQ_IDX, DIR_IDX` representando os índices da lista onde se encontra o valor raíz, o nó a esquerda e o nó a direita.\n",
        "\n",
        "```\n",
        "# Representação visual da árvore\n",
        "       4\n",
        "      / \\\n",
        "     2   5\n",
        "    / \\\n",
        "   1   3\n",
        "```"
      ]
    },
    {
      "cell_type": "code",
      "execution_count": null,
      "id": "10df4831",
      "metadata": {
        "id": "10df4831"
      },
      "outputs": [],
      "source": [
        "RAIZ_IDX, ESQ_IDX, DIR_IDX = 0, 1, 2\n",
        "\n",
        "arvore = [\n",
        "    4,              # raíz, nível 0\n",
        "    [               # ramo da esquerda, nível 1\n",
        "        2,          # valor filho esquerda\n",
        "        [1, None, None],   # ramo da esquerda, nível 2\n",
        "        [3, None, None]    # ramo da direita, nível 2\n",
        "    ],\n",
        "    [               # ramo da direita, nível 1\n",
        "        5,          # valor filho da direita\n",
        "        None,              # ramo da esquerda, nível 2\n",
        "        None               # ramo da direita, nível 2\n",
        "    ]\n",
        "]"
      ]
    }
  ],
  "metadata": {
    "kernelspec": {
      "display_name": "Python 3 (ipykernel)",
      "language": "python",
      "name": "python3"
    },
    "language_info": {
      "codemirror_mode": {
        "name": "ipython",
        "version": 3
      },
      "file_extension": ".py",
      "mimetype": "text/x-python",
      "name": "python",
      "nbconvert_exporter": "python",
      "pygments_lexer": "ipython3",
      "version": "3.9.6"
    },
    "colab": {
      "provenance": []
    }
  },
  "nbformat": 4,
  "nbformat_minor": 5
}