{
  "cells": [
    {
      "cell_type": "markdown",
      "metadata": {
        "id": "b1kCB0O8loA6"
      },
      "source": [
        "> Projeto Desenvolve <br>\n",
        "Programação Intermediária com Python <br>\n",
        "Profa. Camila Laranjeira (mila@projetodesenvolve.com.br) <br>\n",
        "\n",
        "# 2.5 a 2.10 - Pilares da OO"
      ]
    },
    {
      "cell_type": "markdown",
      "metadata": {
        "id": "zOVDEcrnloA8"
      },
      "source": [
        "## Exercícios\n",
        "\n",
        "#### Q1.\n",
        "Essa lista de exercícios terá como base a classe `Evento` criada em exercícios anteriores. Primeiramente criaremos a classe abstrata `EventoABC` com os métodos de instância abstratos `__str__(self)` e `isConcluido(self)`, indicando que todos as subclasses que dela herdarem devem implementar esses métodos.\n",
        "\n",
        "`EventoABC` também possui os atributos `_titulo` (string) e `_descricao` (string), cujos valores são recebidos e inicializados no construtor da classe. Note a convenção de nomenclatura indicando o caráter privado desses atributos."
      ]
    },
    {
      "cell_type": "code",
      "execution_count": 1,
      "metadata": {
        "vscode": {
          "languageId": "plaintext"
        },
        "id": "ENjQc1-uloA9"
      },
      "outputs": [],
      "source": [
        "#### Classe EventoABC\n",
        "from abc import ABC, abstractmethod\n",
        "\n",
        "class EventoABC(ABC):\n",
        "    def __init__(self, titulo: str, descricao: str):\n",
        "        self._titulo = titulo\n",
        "        self._descricao = descricao\n",
        "\n",
        "    @abstractmethod\n",
        "    def __str__(self):\n",
        "        pass\n",
        "\n",
        "    @abstractmethod\n",
        "    def isConcluido(self):\n",
        "        pass\n"
      ]
    },
    {
      "cell_type": "markdown",
      "metadata": {
        "vscode": {
          "languageId": "plaintext"
        },
        "id": "g2YY0j9WloA-"
      },
      "source": [
        "#### Q2.\n",
        "\n",
        "Crie a classe `DataHora` que dará suporte ao registro de eventos de calendário.\n",
        "* A classe possui o atributo de instância `_data_hora` (datetime) privado e um atributo de classe `FORMAT` inicializado com a formatação de string aceito para `_data_hora`, ou seja, `FORMAT = '%d/%m/%Y, %H:%M'`.\n",
        "* A classe **não possui construtor customizado**. A alteração de seu atributo se dará a partir da propriedade a seguir.\n",
        "* Crie a `property` `data_hora` para manipular o atributo `_data_hora`.\n",
        "    * O getter da propriedade deve retornar a data como uma string formatada (`%d/%m/%Y, %H:%M`). Use o atributo `FORMAT`. Consulte o [funcionamento do método `strftime`](https://www.programiz.com/python-programming/datetime/strftime).\n",
        "    * O setter da propriedade deve receber uma string de data formatada (`%d/%m/%Y, %H:%M`) e implementar um bloco try-except que tenta converter a string em `datetime` e lança um `ValueError` caso a entrada seja inválida. Use o atributo `FORMAT`. Consulte o [funcionamento do método `strptime`](https://www.digitalocean.com/community/tutorials/python-string-to-datetime-strptime).\n",
        "* Crie o método de instância `isPassado(self)` que avalia se a `_data_hora` é menor que `datetime.now()` (a data e hora atual) e retorna `True` em caso positivo, e `False` caso contrário.\n",
        "* Crie o método de instância `somaDias(self, num_dias)` que recebe um inteiro `num_dias`, soma esse valor ao atributo interno `_data_hora` e retorna a string formatada do resultado da soma (código dado a seguir).   \n",
        "```python\n",
        "data_hora_somada = self._data_hora + datetime.timedelta(days=num_dias)\n",
        "return data_hora_somada.strftime(FORMAT)\n",
        "```\n",
        "\n",
        "Teste a classe `DataHora` com o seguinte código (altere o que for necessário):\n",
        "```python\n",
        "# instanciando o objeto\n",
        "dh = DataHora()\n",
        "\n",
        "# definindo a data_hora através da propriedade\n",
        "dh.data_hora = '05/02/2024, 12:30'\n",
        "\n",
        "## editando a data_hora através da função somaDias\n",
        "dh.data_hora = dh.somaDias(30)\n",
        "\n",
        "## imprimindo a data_hora editada e se é passado\n",
        "print(dh.data_hora, dh.isPassado())\n",
        "```"
      ]
    },
    {
      "cell_type": "code",
      "execution_count": 2,
      "metadata": {
        "vscode": {
          "languageId": "plaintext"
        },
        "colab": {
          "base_uri": "https://localhost:8080/"
        },
        "id": "whYawmbzloA_",
        "outputId": "f03386fb-d670-4fe6-cdad-a3e61bbe957b"
      },
      "outputs": [
        {
          "output_type": "stream",
          "name": "stdout",
          "text": [
            "06/03/2024, 12:30 True\n"
          ]
        }
      ],
      "source": [
        "#### Classe DataHora\n",
        "from datetime import datetime, timedelta\n",
        "from abc import ABC, abstractmethod\n",
        "\n",
        "class DataHora:\n",
        "    FORMAT = '%d/%m/%Y, %H:%M'\n",
        "\n",
        "    def __init__(self):\n",
        "        self._data_hora = None\n",
        "\n",
        "    @property\n",
        "    def data_hora(self):\n",
        "        if self._data_hora is None:\n",
        "            return None\n",
        "        return self._data_hora.strftime(self.FORMAT)\n",
        "\n",
        "    @data_hora.setter\n",
        "    def data_hora(self, data_hora):\n",
        "        try:\n",
        "            self._data_hora = datetime.strptime(data_hora, self.FORMAT)\n",
        "        except ValueError:\n",
        "            raise ValueError(f\"Formato de data/hora inválido. Use o formato {self.FORMAT}\")\n",
        "\n",
        "    def isPassado(self):\n",
        "        return self._data_hora < datetime.now()\n",
        "\n",
        "    def somaDias(self, num_dias):\n",
        "        data_hora_somada = self._data_hora + timedelta(days=num_dias)\n",
        "        return data_hora_somada.strftime(self.FORMAT)\n",
        "\n",
        "dh = DataHora()\n",
        "dh.data_hora = '05/02/2024, 12:30'\n",
        "dh.data_hora = dh.somaDias(30)\n",
        "print(dh.data_hora, dh.isPassado())"
      ]
    },
    {
      "cell_type": "markdown",
      "metadata": {
        "id": "qbaCQWB7loA_"
      },
      "source": [
        "#### Q3.\n",
        "Crie a classe `EventoUnico`:\n",
        "* A classe deve herdar de `EventoABC`.\n",
        "* Possui o atributo de instância `_data_hora` (classe `DataHora` que criamos previamente).\n",
        "* Seu construtor deve receber e inicializar os atributos da superclasse, além do valor de `_data_hora` recebido como uma string formatada (`%d/%m/%Y, %H:%M`). Note que para alterar `_data_hora` (objeto tipo `DataHora`), você deve manipular a propriedade interna da classe.\n",
        "*  Implementa os métodos abstratos da superclasse:\n",
        "    * Método `isConcluido()` que invoca o método `isPassado()` de `_data_hora` e retorna o seu resultado.\n",
        "    * Método `__str__` que imprime os atributos do evento na forma `\"Evento: _titulo, Data: _data_hora, Descrição: _descricao, Concluido: isConcluido()\"`. Note que `isConcluido()` é o método de avaliação implementado.\n",
        "* Crie o método de instância `editar_data_hora` que recebe uma string formatada e altera `_data_hora` (através de sua propriedade interna).\n",
        "    \n",
        "    \n",
        "Teste a classe `EventoUnico` com o seguinte código:\n",
        "```python\n",
        "# criar evento\n",
        "evento = EventoUnico('Reunião', 'Sala 302, prédio da esquina', '05/10/2023, 16:30')\n",
        "print(evento)\n",
        "\n",
        "# editar data do evento (através da propriedade)\n",
        "evento.editar_data_hora('05/10/2024, 16:30')\n",
        "print(evento)\n",
        "```"
      ]
    },
    {
      "cell_type": "code",
      "execution_count": 3,
      "metadata": {
        "vscode": {
          "languageId": "plaintext"
        },
        "colab": {
          "base_uri": "https://localhost:8080/"
        },
        "id": "pJ3JlfFEloA_",
        "outputId": "e32296db-725e-4e43-9c0f-f975d0bf8617"
      },
      "outputs": [
        {
          "output_type": "stream",
          "name": "stdout",
          "text": [
            "Evento: Reunião, Data: 05/10/2023, 16:30, Descrição: Sala 302, prédio da esquina, Concluido: True\n",
            "Evento: Reunião, Data: 05/10/2024, 16:30, Descrição: Sala 302, prédio da esquina, Concluido: True\n"
          ]
        }
      ],
      "source": [
        "#### Classe EventoUnico\n",
        "from abc import ABC, abstractmethod\n",
        "\n",
        "class EventoUnico(EventoABC):\n",
        "  def __init__(self, titulo: str, descricao: str, data_hora: str):\n",
        "    super().__init__(titulo, descricao)\n",
        "    self._data_hora = DataHora()\n",
        "    self._data_hora.data_hora = data_hora\n",
        "\n",
        "  def isConcluido(self):\n",
        "    return self._data_hora.isPassado()\n",
        "\n",
        "  def __str__(self):\n",
        "    return f\"Evento: {self._titulo}, Data: {self._data_hora.data_hora}, Descrição: {self._descricao}, Concluido: {self.isConcluido()}\"\n",
        "\n",
        "  def editar_data_hora(self, data_hora):\n",
        "    self._data_hora.data_hora = data_hora\n",
        "\n",
        "evento = EventoUnico('Reunião', 'Sala 302, prédio da esquina', '05/10/2023, 16:30')\n",
        "print(evento)\n",
        "\n",
        "evento.editar_data_hora('05/10/2024, 16:30')\n",
        "print(evento)\n",
        "\n"
      ]
    },
    {
      "cell_type": "markdown",
      "metadata": {
        "id": "rgai_tOqloA_"
      },
      "source": [
        "#### Q3.\n",
        "Crie a classe `EventoRecorrente`:\n",
        "* A classe deve herdar de `EventoABC`.\n",
        "* Possui como atributo próprio uma lista privada de objetos `DataHora` (como você deve nomear o atributo?).\n",
        "* Seu construtor recebe os atributos da superclasse, além dos atributos `data_hora_inicial` (string formatada), `data_hora_final` (string formatada) e `intervalo_repeticao` (int), sendo o intervalo dado em dias. Preencha a coleção `DataHora` de acordo com o intervalo de repetição fornecido. Dica: crie o objeto `DataHora` inicial e use sua função interna `somaDias` para criar iterativamente as novas instâncias do intervalo até chegar em `DataHora` final.\n",
        "*  Implementa os métodos abstratos da superclasse:\n",
        "    * Método `isConcluido(indice)` que que invoca o método `isPassado()` do elemento `indice` da coleção de objetos `DataHora` e retorna seu resultado.\n",
        "    * Método `__str__` que imprime (em um laço) **todos as ocorrências `i` do evento** na forma `\"Evento: _titulo, Data: data_hora[i], Descrição: _descricao, Concluido: isConcluido(i)\"`.\n",
        "* Crie o método `editar_data_hora` que recebe `data_hora_antiga` e `data_hora_nova` e altera o elemento da coleção de objetos `DataHora` que corresponde a `data_hora_antiga` fornecida.    \n",
        "\n",
        "\n",
        "Teste a classe `EventoRecorrente` com o seguinte código:\n",
        "```python\n",
        "# criar evento\n",
        "eventos = EventoRecorrente(\n",
        "    'Reunião', 'Sala 302, prédio da esquina',\n",
        "    '05/01/2024, 16:30', '05/01/2025, 16:30', 30)\n",
        "\n",
        "# imprimir eventos\n",
        "print(eventos)\n",
        "\n",
        "# editar um dos eventos\n",
        "eventos.editar_data_hora('05/12/2024, 16:30', '05/12/2024, 11:30')\n",
        "\n",
        "# imprimir eventos\n",
        "print(eventos)\n",
        "```"
      ]
    },
    {
      "cell_type": "code",
      "execution_count": 11,
      "metadata": {
        "vscode": {
          "languageId": "plaintext"
        },
        "colab": {
          "base_uri": "https://localhost:8080/"
        },
        "id": "MKlZ9AY7loBA",
        "outputId": "26f85b79-d606-44e1-cb5a-34a7abc60671"
      },
      "outputs": [
        {
          "output_type": "stream",
          "name": "stdout",
          "text": [
            "Evento: Reunião, Data: 05/01/2024, 16:30, Descrição: Sala 302, prédio da esquina, Concluído: True\n",
            "Evento: Reunião, Data: 04/02/2024, 16:30, Descrição: Sala 302, prédio da esquina, Concluído: True\n",
            "Evento: Reunião, Data: 05/03/2024, 16:30, Descrição: Sala 302, prédio da esquina, Concluído: True\n",
            "Evento: Reunião, Data: 04/04/2024, 16:30, Descrição: Sala 302, prédio da esquina, Concluído: True\n",
            "Evento: Reunião, Data: 04/05/2024, 16:30, Descrição: Sala 302, prédio da esquina, Concluído: True\n",
            "Evento: Reunião, Data: 03/06/2024, 16:30, Descrição: Sala 302, prédio da esquina, Concluído: True\n",
            "Evento: Reunião, Data: 03/07/2024, 16:30, Descrição: Sala 302, prédio da esquina, Concluído: True\n",
            "Evento: Reunião, Data: 02/08/2024, 16:30, Descrição: Sala 302, prédio da esquina, Concluído: True\n",
            "Evento: Reunião, Data: 01/09/2024, 16:30, Descrição: Sala 302, prédio da esquina, Concluído: True\n",
            "Evento: Reunião, Data: 01/10/2024, 16:30, Descrição: Sala 302, prédio da esquina, Concluído: True\n",
            "Evento: Reunião, Data: 31/10/2024, 16:30, Descrição: Sala 302, prédio da esquina, Concluído: False\n",
            "Evento: Reunião, Data: 30/11/2024, 16:30, Descrição: Sala 302, prédio da esquina, Concluído: False\n",
            "Evento: Reunião, Data: 30/12/2024, 16:30, Descrição: Sala 302, prédio da esquina, Concluído: False\n",
            "\n",
            "Evento: Reunião, Data: 05/01/2024, 16:30, Descrição: Sala 302, prédio da esquina, Concluído: True\n",
            "Evento: Reunião, Data: 04/02/2024, 16:30, Descrição: Sala 302, prédio da esquina, Concluído: True\n",
            "Evento: Reunião, Data: 05/03/2024, 16:30, Descrição: Sala 302, prédio da esquina, Concluído: True\n",
            "Evento: Reunião, Data: 04/04/2024, 16:30, Descrição: Sala 302, prédio da esquina, Concluído: True\n",
            "Evento: Reunião, Data: 04/05/2024, 16:30, Descrição: Sala 302, prédio da esquina, Concluído: True\n",
            "Evento: Reunião, Data: 03/06/2024, 16:30, Descrição: Sala 302, prédio da esquina, Concluído: True\n",
            "Evento: Reunião, Data: 03/07/2024, 16:30, Descrição: Sala 302, prédio da esquina, Concluído: True\n",
            "Evento: Reunião, Data: 02/08/2024, 16:30, Descrição: Sala 302, prédio da esquina, Concluído: True\n",
            "Evento: Reunião, Data: 01/09/2024, 16:30, Descrição: Sala 302, prédio da esquina, Concluído: True\n",
            "Evento: Reunião, Data: 01/10/2024, 16:30, Descrição: Sala 302, prédio da esquina, Concluído: True\n",
            "Evento: Reunião, Data: 31/10/2024, 16:30, Descrição: Sala 302, prédio da esquina, Concluído: False\n",
            "Evento: Reunião, Data: 30/11/2024, 16:30, Descrição: Sala 302, prédio da esquina, Concluído: False\n",
            "Evento: Reunião, Data: 30/12/2024, 16:30, Descrição: Sala 302, prédio da esquina, Concluído: False\n",
            "\n"
          ]
        }
      ],
      "source": [
        "class EventoRecorrente(EventoABC):\n",
        "    def __init__(self, titulo: str, descricao: str, data_hora_inicial: str, data_hora_final: str, intervalo_repeticao: int):\n",
        "        super().__init__(titulo, descricao)\n",
        "        self._data_horas = []  # Atributo para armazenar as ocorrências\n",
        "\n",
        "        # Cria o objeto DataHora inicial e final\n",
        "        data_hora_inicial_obj = DataHora()\n",
        "        data_hora_inicial_obj.data_hora = data_hora_inicial  # Atribui a string à DataHora\n",
        "\n",
        "        data_hora_final_obj = DataHora()\n",
        "        data_hora_final_obj.data_hora = data_hora_final  # Atribui a string à DataHora\n",
        "\n",
        "        # Preenche a lista de objetos DataHora conforme o intervalo\n",
        "        data_hora_atual = data_hora_inicial_obj\n",
        "\n",
        "        while data_hora_atual._data_hora <= data_hora_final_obj._data_hora:\n",
        "            self._data_horas.append(data_hora_atual)  # Adiciona a DataHora à lista\n",
        "            # Cria um novo objeto DataHora para a próxima data\n",
        "            nova_data_hora = DataHora()\n",
        "            # Usa a somaDias para calcular a nova data\n",
        "            nova_data_hora.data_hora = data_hora_atual.somaDias(intervalo_repeticao)  # A nova data\n",
        "            data_hora_atual = nova_data_hora  # Atualiza a data atual para a nova data\n",
        "\n",
        "    def isConcluido(self, indice):\n",
        "        return self._data_horas[indice].isPassado()\n",
        "\n",
        "    def __str__(self):\n",
        "        eventos_str = \"\"\n",
        "        for i in range(len(self._data_horas)):\n",
        "            eventos_str += f\"Evento: {self._titulo}, Data: {self._data_horas[i].data_hora}, Descrição: {self._descricao}, Concluído: {self.isConcluido(i)}\\n\"\n",
        "        return eventos_str\n",
        "\n",
        "    def editar_data_hora(self, data_hora_antiga: str, data_hora_nova: str):\n",
        "        for data_hora in self._data_horas:\n",
        "            if data_hora.data_hora == data_hora_antiga:\n",
        "                data_hora.data_hora = data_hora_nova  # Altera a DataHora correspondente\n",
        "                break\n",
        "\n",
        "# Testando a classe EventoRecorrente\n",
        "eventos = EventoRecorrente(\n",
        "    'Reunião', 'Sala 302, prédio da esquina',\n",
        "    '05/01/2024, 16:30', '05/01/2025, 16:30', 30\n",
        ")\n",
        "\n",
        "# Imprimindo eventos\n",
        "print(eventos)\n",
        "\n",
        "# Editando um dos eventos\n",
        "eventos.editar_data_hora('05/12/2024, 16:30', '05/12/2024, 11:30')\n",
        "\n",
        "# Imprimindo eventos após a edição\n",
        "print(eventos)\n"
      ]
    },
    {
      "cell_type": "markdown",
      "metadata": {
        "id": "QHcvgR6HloBA"
      },
      "source": [
        "#### Q4.\n",
        "\n",
        "Por fim, vamos só ver o polimorfismo em ação. Crie e preencha uma lista de eventos, sendo alguns do tipo `EventoUnico` e outros do tipo `EventoRecorrente`. Sobre essa lista, execute o laço de impressão a seguir:\n",
        "```python\n",
        "for evento in lista_eventos: print(evento)\n",
        "```\n",
        "A função `print` irá invocar o método especial `__str__` das classes correspondentes dependendo do tipo do objeto recebido. Aí está o polimorfismo :)"
      ]
    },
    {
      "cell_type": "code",
      "execution_count": 12,
      "metadata": {
        "vscode": {
          "languageId": "plaintext"
        },
        "colab": {
          "base_uri": "https://localhost:8080/"
        },
        "id": "N7rASUvjloBA",
        "outputId": "b6703c79-b29a-4b80-e8ef-547d22ee54af"
      },
      "outputs": [
        {
          "output_type": "stream",
          "name": "stdout",
          "text": [
            "Evento: Reunião, Data: 05/10/2023, 16:30, Descrição: Sala 302, prédio da esquina, Concluído: True\n",
            "Evento: Treinamento, Data: 05/01/2024, 10:00, Descrição: Online, Concluído: True\n",
            "Evento: Treinamento, Data: 04/02/2024, 10:00, Descrição: Online, Concluído: True\n",
            "Evento: Treinamento, Data: 05/03/2024, 10:00, Descrição: Online, Concluído: True\n",
            "Evento: Treinamento, Data: 04/04/2024, 10:00, Descrição: Online, Concluído: True\n",
            "Evento: Treinamento, Data: 04/05/2024, 10:00, Descrição: Online, Concluído: True\n",
            "Evento: Treinamento, Data: 03/06/2024, 10:00, Descrição: Online, Concluído: True\n",
            "Evento: Treinamento, Data: 03/07/2024, 10:00, Descrição: Online, Concluído: True\n",
            "Evento: Treinamento, Data: 02/08/2024, 10:00, Descrição: Online, Concluído: True\n",
            "Evento: Treinamento, Data: 01/09/2024, 10:00, Descrição: Online, Concluído: True\n",
            "Evento: Treinamento, Data: 01/10/2024, 10:00, Descrição: Online, Concluído: True\n",
            "Evento: Treinamento, Data: 31/10/2024, 10:00, Descrição: Online, Concluído: False\n",
            "Evento: Treinamento, Data: 30/11/2024, 10:00, Descrição: Online, Concluído: False\n",
            "Evento: Treinamento, Data: 30/12/2024, 10:00, Descrição: Online, Concluído: False\n",
            "\n",
            "Evento: Aniversário, Data: 15/12/2023, 19:00, Descrição: Casa da Maria, Concluído: True\n",
            "Evento: Café da Manhã, Data: 01/11/2023, 08:00, Descrição: Cafeteria, Concluído: True\n",
            "Evento: Café da Manhã, Data: 08/11/2023, 08:00, Descrição: Cafeteria, Concluído: True\n",
            "Evento: Café da Manhã, Data: 15/11/2023, 08:00, Descrição: Cafeteria, Concluído: True\n",
            "Evento: Café da Manhã, Data: 22/11/2023, 08:00, Descrição: Cafeteria, Concluído: True\n",
            "Evento: Café da Manhã, Data: 29/11/2023, 08:00, Descrição: Cafeteria, Concluído: True\n",
            "Evento: Café da Manhã, Data: 06/12/2023, 08:00, Descrição: Cafeteria, Concluído: True\n",
            "Evento: Café da Manhã, Data: 13/12/2023, 08:00, Descrição: Cafeteria, Concluído: True\n",
            "Evento: Café da Manhã, Data: 20/12/2023, 08:00, Descrição: Cafeteria, Concluído: True\n",
            "Evento: Café da Manhã, Data: 27/12/2023, 08:00, Descrição: Cafeteria, Concluído: True\n",
            "Evento: Café da Manhã, Data: 03/01/2024, 08:00, Descrição: Cafeteria, Concluído: True\n",
            "Evento: Café da Manhã, Data: 10/01/2024, 08:00, Descrição: Cafeteria, Concluído: True\n",
            "Evento: Café da Manhã, Data: 17/01/2024, 08:00, Descrição: Cafeteria, Concluído: True\n",
            "Evento: Café da Manhã, Data: 24/01/2024, 08:00, Descrição: Cafeteria, Concluído: True\n",
            "Evento: Café da Manhã, Data: 31/01/2024, 08:00, Descrição: Cafeteria, Concluído: True\n",
            "Evento: Café da Manhã, Data: 07/02/2024, 08:00, Descrição: Cafeteria, Concluído: True\n",
            "Evento: Café da Manhã, Data: 14/02/2024, 08:00, Descrição: Cafeteria, Concluído: True\n",
            "Evento: Café da Manhã, Data: 21/02/2024, 08:00, Descrição: Cafeteria, Concluído: True\n",
            "Evento: Café da Manhã, Data: 28/02/2024, 08:00, Descrição: Cafeteria, Concluído: True\n",
            "Evento: Café da Manhã, Data: 06/03/2024, 08:00, Descrição: Cafeteria, Concluído: True\n",
            "Evento: Café da Manhã, Data: 13/03/2024, 08:00, Descrição: Cafeteria, Concluído: True\n",
            "Evento: Café da Manhã, Data: 20/03/2024, 08:00, Descrição: Cafeteria, Concluído: True\n",
            "Evento: Café da Manhã, Data: 27/03/2024, 08:00, Descrição: Cafeteria, Concluído: True\n",
            "Evento: Café da Manhã, Data: 03/04/2024, 08:00, Descrição: Cafeteria, Concluído: True\n",
            "Evento: Café da Manhã, Data: 10/04/2024, 08:00, Descrição: Cafeteria, Concluído: True\n",
            "Evento: Café da Manhã, Data: 17/04/2024, 08:00, Descrição: Cafeteria, Concluído: True\n",
            "Evento: Café da Manhã, Data: 24/04/2024, 08:00, Descrição: Cafeteria, Concluído: True\n",
            "Evento: Café da Manhã, Data: 01/05/2024, 08:00, Descrição: Cafeteria, Concluído: True\n",
            "Evento: Café da Manhã, Data: 08/05/2024, 08:00, Descrição: Cafeteria, Concluído: True\n",
            "Evento: Café da Manhã, Data: 15/05/2024, 08:00, Descrição: Cafeteria, Concluído: True\n",
            "Evento: Café da Manhã, Data: 22/05/2024, 08:00, Descrição: Cafeteria, Concluído: True\n",
            "Evento: Café da Manhã, Data: 29/05/2024, 08:00, Descrição: Cafeteria, Concluído: True\n",
            "Evento: Café da Manhã, Data: 05/06/2024, 08:00, Descrição: Cafeteria, Concluído: True\n",
            "Evento: Café da Manhã, Data: 12/06/2024, 08:00, Descrição: Cafeteria, Concluído: True\n",
            "Evento: Café da Manhã, Data: 19/06/2024, 08:00, Descrição: Cafeteria, Concluído: True\n",
            "Evento: Café da Manhã, Data: 26/06/2024, 08:00, Descrição: Cafeteria, Concluído: True\n",
            "Evento: Café da Manhã, Data: 03/07/2024, 08:00, Descrição: Cafeteria, Concluído: True\n",
            "Evento: Café da Manhã, Data: 10/07/2024, 08:00, Descrição: Cafeteria, Concluído: True\n",
            "Evento: Café da Manhã, Data: 17/07/2024, 08:00, Descrição: Cafeteria, Concluído: True\n",
            "Evento: Café da Manhã, Data: 24/07/2024, 08:00, Descrição: Cafeteria, Concluído: True\n",
            "Evento: Café da Manhã, Data: 31/07/2024, 08:00, Descrição: Cafeteria, Concluído: True\n",
            "Evento: Café da Manhã, Data: 07/08/2024, 08:00, Descrição: Cafeteria, Concluído: True\n",
            "Evento: Café da Manhã, Data: 14/08/2024, 08:00, Descrição: Cafeteria, Concluído: True\n",
            "Evento: Café da Manhã, Data: 21/08/2024, 08:00, Descrição: Cafeteria, Concluído: True\n",
            "Evento: Café da Manhã, Data: 28/08/2024, 08:00, Descrição: Cafeteria, Concluído: True\n",
            "Evento: Café da Manhã, Data: 04/09/2024, 08:00, Descrição: Cafeteria, Concluído: True\n",
            "Evento: Café da Manhã, Data: 11/09/2024, 08:00, Descrição: Cafeteria, Concluído: True\n",
            "Evento: Café da Manhã, Data: 18/09/2024, 08:00, Descrição: Cafeteria, Concluído: True\n",
            "Evento: Café da Manhã, Data: 25/09/2024, 08:00, Descrição: Cafeteria, Concluído: True\n",
            "Evento: Café da Manhã, Data: 02/10/2024, 08:00, Descrição: Cafeteria, Concluído: True\n",
            "Evento: Café da Manhã, Data: 09/10/2024, 08:00, Descrição: Cafeteria, Concluído: True\n",
            "Evento: Café da Manhã, Data: 16/10/2024, 08:00, Descrição: Cafeteria, Concluído: True\n",
            "Evento: Café da Manhã, Data: 23/10/2024, 08:00, Descrição: Cafeteria, Concluído: False\n",
            "Evento: Café da Manhã, Data: 30/10/2024, 08:00, Descrição: Cafeteria, Concluído: False\n",
            "\n"
          ]
        }
      ],
      "source": [
        "class EventoABC(ABC):\n",
        "    def __init__(self, titulo: str, descricao: str):\n",
        "        self._titulo = titulo\n",
        "        self._descricao = descricao\n",
        "\n",
        "    @abstractmethod\n",
        "    def isConcluido(self):\n",
        "        pass\n",
        "\n",
        "    @abstractmethod\n",
        "    def __str__(self):\n",
        "        pass\n",
        "\n",
        "\n",
        "class DataHora:\n",
        "    FORMAT = '%d/%m/%Y, %H:%M'\n",
        "\n",
        "    def __init__(self):\n",
        "        self._data_hora = None\n",
        "\n",
        "    @property\n",
        "    def data_hora(self):\n",
        "        if self._data_hora is None:\n",
        "            return None\n",
        "        return self._data_hora.strftime(self.FORMAT)\n",
        "\n",
        "    @data_hora.setter\n",
        "    def data_hora(self, data_hora):\n",
        "        try:\n",
        "            self._data_hora = datetime.strptime(data_hora, self.FORMAT)\n",
        "        except ValueError:\n",
        "            raise ValueError(f\"Formato de data/hora inválido. Use o formato {self.FORMAT}\")\n",
        "\n",
        "    def isPassado(self):\n",
        "        return self._data_hora < datetime.now()\n",
        "\n",
        "    def somaDias(self, num_dias):\n",
        "        if self._data_hora is None:\n",
        "            raise ValueError(\"DataHora não está definida.\")\n",
        "        data_hora_somada = self._data_hora + timedelta(days=num_dias)\n",
        "        return data_hora_somada.strftime(self.FORMAT)\n",
        "\n",
        "\n",
        "class EventoUnico(EventoABC):\n",
        "    def __init__(self, titulo: str, descricao: str, data_hora: str):\n",
        "        super().__init__(titulo, descricao)\n",
        "        self._data_hora = DataHora()\n",
        "        self._data_hora.data_hora = data_hora\n",
        "\n",
        "    def isConcluido(self):\n",
        "        return self._data_hora.isPassado()\n",
        "\n",
        "    def __str__(self):\n",
        "        return f\"Evento: {self._titulo}, Data: {self._data_hora.data_hora}, Descrição: {self._descricao}, Concluído: {self.isConcluido()}\"\n",
        "\n",
        "\n",
        "class EventoRecorrente(EventoABC):\n",
        "    def __init__(self, titulo: str, descricao: str, data_hora_inicial: str, data_hora_final: str, intervalo_repeticao: int):\n",
        "        super().__init__(titulo, descricao)\n",
        "        self._data_horas = []\n",
        "\n",
        "        data_hora_inicial_obj = DataHora()\n",
        "        data_hora_inicial_obj.data_hora = data_hora_inicial\n",
        "\n",
        "        data_hora_final_obj = DataHora()\n",
        "        data_hora_final_obj.data_hora = data_hora_final\n",
        "\n",
        "        data_hora_atual = data_hora_inicial_obj\n",
        "\n",
        "        while data_hora_atual._data_hora <= data_hora_final_obj._data_hora:\n",
        "            self._data_horas.append(data_hora_atual)\n",
        "            nova_data_hora = DataHora()\n",
        "            nova_data_hora.data_hora = data_hora_atual.somaDias(intervalo_repeticao)\n",
        "            data_hora_atual = nova_data_hora\n",
        "\n",
        "    def isConcluido(self, indice):\n",
        "        return self._data_horas[indice].isPassado()\n",
        "\n",
        "    def __str__(self):\n",
        "        eventos_str = \"\"\n",
        "        for i in range(len(self._data_horas)):\n",
        "            eventos_str += f\"Evento: {self._titulo}, Data: {self._data_horas[i].data_hora}, Descrição: {self._descricao}, Concluído: {self.isConcluido(i)}\\n\"\n",
        "        return eventos_str\n",
        "\n",
        "    def editar_data_hora(self, data_hora_antiga: str, data_hora_nova: str):\n",
        "        for data_hora in self._data_horas:\n",
        "            if data_hora.data_hora == data_hora_antiga:\n",
        "                data_hora.data_hora = data_hora_nova\n",
        "                break\n",
        "\n",
        "\n",
        "# Criando uma lista de eventos\n",
        "lista_eventos = [\n",
        "    EventoUnico('Reunião', 'Sala 302, prédio da esquina', '05/10/2023, 16:30'),\n",
        "    EventoRecorrente('Treinamento', 'Online', '05/01/2024, 10:00', '05/01/2025, 10:00', 30),\n",
        "    EventoUnico('Aniversário', 'Casa da Maria', '15/12/2023, 19:00'),\n",
        "    EventoRecorrente('Café da Manhã', 'Cafeteria', '01/11/2023, 08:00', '01/11/2024, 08:00', 7),\n",
        "]\n",
        "\n",
        "# Imprimindo os eventos da lista\n",
        "for evento in lista_eventos:\n",
        "    print(evento)\n"
      ]
    }
  ],
  "metadata": {
    "language_info": {
      "name": "python"
    },
    "colab": {
      "provenance": []
    },
    "kernelspec": {
      "name": "python3",
      "display_name": "Python 3"
    }
  },
  "nbformat": 4,
  "nbformat_minor": 0
}